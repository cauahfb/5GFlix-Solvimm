{
 "cells": [
  {
   "cell_type": "markdown",
   "id": "91a307db",
   "metadata": {},
   "source": [
    "Para rodar o código é importante executar todas as linhas, de primeira vez importando a biblioteca \"pandas\". "
   ]
  },
  {
   "cell_type": "markdown",
   "id": "6ff50be9",
   "metadata": {},
   "source": [
    "Nesse caso estou chamando o \"as pd\" para utilizar o pandas em sua forma resumida."
   ]
  },
  {
   "cell_type": "code",
   "execution_count": 1,
   "id": "59e228b1",
   "metadata": {},
   "outputs": [],
   "source": [
    "import pandas as pd"
   ]
  },
  {
   "cell_type": "markdown",
   "id": "644a54a8",
   "metadata": {},
   "source": [
    "Criando os Dataframes com base nos arquivos excel utilizando o pd.read_excel(nome da planilha)."
   ]
  },
  {
   "cell_type": "code",
   "execution_count": null,
   "id": "d9fee188",
   "metadata": {},
   "outputs": [],
   "source": [
    "movies_df = pd.read_excel(\"movies.xlsx\")"
   ]
  },
  {
   "cell_type": "code",
   "execution_count": null,
   "id": "60bb5f3a",
   "metadata": {},
   "outputs": [],
   "source": [
    "rating_df = pd.read_excel(\"customers_rating.xlsx\")"
   ]
  },
  {
   "cell_type": "markdown",
   "id": "23adf569",
   "metadata": {},
   "source": [
    "# 1.1. Quantos filmes estão disponíveis no Dataset?\n"
   ]
  },
  {
   "cell_type": "markdown",
   "id": "3223f0fc",
   "metadata": {},
   "source": [
    "Para descobrir vamos pegar a coluna \"Movie_Id\" do Dataset \"movies_df\", pois os Ids são únicos, e acrescentar o .count, para contarmos quantas linhas essa coluna possui. Assim obtendo o valor total de filmes."
   ]
  },
  {
   "cell_type": "code",
   "execution_count": null,
   "id": "289ead34",
   "metadata": {},
   "outputs": [],
   "source": [
    "movies_count = movies_df['Movie_Id'].count()\n",
    "print(movies_count, \"filmes estão disponíveis no Dataset.\")"
   ]
  },
  {
   "cell_type": "markdown",
   "id": "e8aacbb2",
   "metadata": {},
   "source": [
    "Mesclando a planilha de Filmes com suas Avaliações."
   ]
  },
  {
   "cell_type": "markdown",
   "id": "204cdbaf",
   "metadata": {},
   "source": [
    "Para as próximas perguntas precisamos mesclar as planilhas criando uma mais completa, para isso vamos usar o merge, e acrescentar as colunas da \"Movies\" na planilha \"rating\". O merge sabe como fazer isso pois identifica que as duas planilhas possuem a coluna \"Movie_Id\"."
   ]
  },
  {
   "cell_type": "code",
   "execution_count": null,
   "id": "d35ab85c",
   "metadata": {},
   "outputs": [],
   "source": [
    "rating_df = rating_df.merge(movies_df)\n",
    "display(rating_df.head())"
   ]
  },
  {
   "cell_type": "markdown",
   "id": "800e0336",
   "metadata": {},
   "source": [
    "# 1.2. Qual é o nome dos 5 filmes com melhor média de avaliação ?"
   ]
  },
  {
   "cell_type": "markdown",
   "id": "1e01b761",
   "metadata": {},
   "source": [
    "Para descobrir vamos utilizar o groupby, que irá juntar a coluna \"Title\", e acrescentar o mean(), que irá gerar uma média dos valores da coluna \"Rating\". Após isso usamos o sort_values com o atributo ascending como False, assim apresentamos os Titulos com avaliação mais alta. E usamos o head para limitarmos a 5 linhas."
   ]
  },
  {
   "cell_type": "code",
   "execution_count": null,
   "id": "89067296",
   "metadata": {},
   "outputs": [],
   "source": [
    "better_rating_movies = rating_df[['Title', 'Rating']].groupby('Title').mean()\n",
    "better_movies = better_rating_movies.sort_values('Rating', ascending=False).head(5)\n",
    "display(better_movies)"
   ]
  },
  {
   "cell_type": "markdown",
   "id": "554451af",
   "metadata": {},
   "source": [
    "# 1.3. Qual os 9 anos com menos lançamentos de filmes?"
   ]
  },
  {
   "cell_type": "markdown",
   "id": "2ca8ed75",
   "metadata": {},
   "source": [
    "Utilizamos o value_counts para pegar a coluna \"Year\" da planilha \"movies\" e contar quantas vezes cada ano se repete.\n",
    "Após isso usamos o sort_values().head(9) para colocarmos em ordem crescente (do que menos aparece para o que mais aparece) e aparecer apenas os 9 primeiros.\n",
    "o to_string foi utilizado para retirar as informações de name e dtype que aparecem no do print."
   ]
  },
  {
   "cell_type": "code",
   "execution_count": null,
   "id": "40397db4",
   "metadata": {},
   "outputs": [],
   "source": [
    "release_years = movies_df['Year'].value_counts()\n",
    "print(release_years.sort_values().head(9).to_string())"
   ]
  },
  {
   "cell_type": "markdown",
   "id": "788b91e8",
   "metadata": {},
   "source": [
    "# 1.4. Quantos filmes que possuem avaliação maior ou igual a 4.7, considerando apenas os filmes avaliados na última data de avaliação do Dataset?"
   ]
  },
  {
   "cell_type": "markdown",
   "id": "d577fbb1",
   "metadata": {},
   "source": [
    "Primeiro precisamos descobrir qual a última data de avaliação do Dataset, para isso valor utilizar o .max() na coluna \"Date\"."
   ]
  },
  {
   "cell_type": "code",
   "execution_count": null,
   "id": "54afb93d",
   "metadata": {},
   "outputs": [],
   "source": [
    "last_date = rating_df['Date'].max()\n",
    "print(last_date)"
   ]
  },
  {
   "cell_type": "markdown",
   "id": "361d4c0b",
   "metadata": {},
   "source": [
    "Após descobrir a última data, precisamos filtrar por apenas os filmes dessa data e que que possuem avaliação maior ou igual a 4.7. E fazemos isso utilizando o .loc, conseguimos localizar pela coluna 'Date' os que possuem o mesmo valor que 31-12-2005, e pela coluna 'Rating' os que possuem o valor maior ou igual a 4.7"
   ]
  },
  {
   "cell_type": "code",
   "execution_count": null,
   "id": "e96e413e",
   "metadata": {},
   "outputs": [],
   "source": [
    "rating_dates = rating_df.loc[rating_df['Date'] == last_date]\n",
    "rating_for_dates = rating_dates.loc[rating_dates['Rating'] >= 4.7]"
   ]
  },
  {
   "cell_type": "markdown",
   "id": "897c8fa0",
   "metadata": {},
   "source": [
    "Agora vamos remover os Ids duplicados, pois representando avaliações de um mesmo filme. Para isso vamos utilizar o .drop_duplicates, que irá procurar o subset \"Movie_Id\" repetidos e manter apenas o \"first\", ou primeiro. E utilizaremos o print para mostrar a contagem de filmes que possuem avaliação maior ou igual a 4.7 na data de 31-12-2005. "
   ]
  },
  {
   "cell_type": "code",
   "execution_count": null,
   "id": "dc102aed",
   "metadata": {},
   "outputs": [],
   "source": [
    "rating_for_dates = rating_for_dates.drop_duplicates(subset='Movie_Id', keep='first')\n",
    "print(rating_for_dates['Movie_Id'].count(), 'filmes possuem a avaliação maior ou igual a 4.7 e foram avaliados em 31/12/2005.')"
   ]
  },
  {
   "cell_type": "markdown",
   "id": "a5ff42ea",
   "metadata": {},
   "source": [
    "# 1.5. Dos filmes encontrados na questão anterior, quais são os 10 filmes com as piores notas e quais as notas ?"
   ]
  },
  {
   "cell_type": "markdown",
   "id": "da23f420",
   "metadata": {},
   "source": [
    "Utilizamos da variável criada anteriormente \"rating_dates\" para selecionarmos as piores do dia 31-12-2005, colocando em ordem crescente através do sort_values.\n",
    "Removemos as duplicatas nos Movie_Id, já que representam o mesmo filme, utilizando o Movie_Id, como anteriormente.\n",
    "Apresentamos apenas as colunas \"Rating\", \"Date\" e \"Title\", utilizando o loc."
   ]
  },
  {
   "cell_type": "code",
   "execution_count": null,
   "id": "5f2e199a",
   "metadata": {},
   "outputs": [],
   "source": [
    "worse_rating = rating_dates.sort_values('Rating').head(13)\n",
    "worse_rating = worse_rating.drop_duplicates(subset='Movie_Id', keep='first')\n",
    "worse_rating = worse_rating.loc[:,[\"Rating\",\"Date\",\"Title\"]]\n",
    "display(worse_rating)"
   ]
  },
  {
   "cell_type": "markdown",
   "id": "9a6ea3aa",
   "metadata": {},
   "source": [
    "# 1.6. Quais os id's dos 5 customer que mais avaliaram filmes e quantas avaliações cada um fez ?"
   ]
  },
  {
   "cell_type": "markdown",
   "id": "a8f71301",
   "metadata": {},
   "source": [
    "Utilizamos a [coluna].value_counts() para somarmos quantas vezes cada Customer avaliou. E ordenamos em ordem descrente utilizando o sort_values com ascending = false, para sabermos a quantidade dos que mais avaliaram. Limitamos apenas para os 5 primeiros utilizando o head(5)."
   ]
  },
  {
   "cell_type": "code",
   "execution_count": null,
   "id": "d83eb638",
   "metadata": {},
   "outputs": [],
   "source": [
    "customer_rating = rating_df['Cust_Id'].value_counts()\n",
    "print(customer_rating.sort_values(ascending=False).head(5).to_string())"
   ]
  },
  {
   "cell_type": "code",
   "execution_count": null,
   "id": "501e39f1",
   "metadata": {},
   "outputs": [],
   "source": []
  }
 ],
 "metadata": {
  "kernelspec": {
   "display_name": "Python 3 (ipykernel)",
   "language": "python",
   "name": "python3"
  },
  "language_info": {
   "codemirror_mode": {
    "name": "ipython",
    "version": 3
   },
   "file_extension": ".py",
   "mimetype": "text/x-python",
   "name": "python",
   "nbconvert_exporter": "python",
   "pygments_lexer": "ipython3",
   "version": "3.9.13"
  }
 },
 "nbformat": 4,
 "nbformat_minor": 5
}
