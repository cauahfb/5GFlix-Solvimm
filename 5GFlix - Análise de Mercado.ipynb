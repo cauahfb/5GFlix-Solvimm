{
 "cells": [
  {
   "cell_type": "markdown",
   "id": "91a307db",
   "metadata": {},
   "source": [
    "Para rodar o código é importante executar todas as linhas, de primeira vez importando a biblioteca \"pandas\". Nesse caso estou chamando o as pd para utilizar o pandas em sua forma resumida."
   ]
  },
  {
   "cell_type": "code",
   "execution_count": 1,
   "id": "59e228b1",
   "metadata": {},
   "outputs": [],
   "source": [
    "import pandas as pd"
   ]
  },
  {
   "cell_type": "markdown",
   "id": "644a54a8",
   "metadata": {},
   "source": [
    "Criando os Dataframes com base nos arquivos excel utilizando o pd.read_excel(nome da planilha)."
   ]
  },
  {
   "cell_type": "code",
   "execution_count": 2,
   "id": "d9fee188",
   "metadata": {},
   "outputs": [],
   "source": [
    "movies_df = pd.read_excel(\"movies.xlsx\")"
   ]
  },
  {
   "cell_type": "code",
   "execution_count": 3,
   "id": "60bb5f3a",
   "metadata": {},
   "outputs": [],
   "source": [
    "rating_df = pd.read_excel(\"customers_rating.xlsx\")"
   ]
  },
  {
   "cell_type": "markdown",
   "id": "23adf569",
   "metadata": {},
   "source": [
    "# 1.1. Quantos filmes estão disponíveis no Dataset?\n"
   ]
  },
  {
   "cell_type": "markdown",
   "id": "3223f0fc",
   "metadata": {},
   "source": [
    "Para descobrir vamos pegar a coluna \"Movie_Id\" do Dataset \"movies_df\", pois os Ids são únicos, e acrescentar o .count, para contarmos quantas linhas essa coluna possui. Assim obtendo o valor total de filmes."
   ]
  },
  {
   "cell_type": "code",
   "execution_count": 4,
   "id": "289ead34",
   "metadata": {},
   "outputs": [
    {
     "name": "stdout",
     "output_type": "stream",
     "text": [
      "4499 filmes estão disponíveis no Dataset.\n"
     ]
    }
   ],
   "source": [
    "movies_count = movies_df['Movie_Id'].count()\n",
    "print(movies_count, \"filmes estão disponíveis no Dataset.\")"
   ]
  },
  {
   "cell_type": "markdown",
   "id": "e8aacbb2",
   "metadata": {},
   "source": [
    "Mesclando a planilha de Filmes com suas Avaliações."
   ]
  },
  {
   "cell_type": "markdown",
   "id": "204cdbaf",
   "metadata": {},
   "source": [
    "Para as próximas perguntas precisamos mesclar as planilhas criando uma mais completa, para isso vamos usar o merge, e acrescentar as colunas da \"Movies\" na planilha \"rating\"."
   ]
  },
  {
   "cell_type": "code",
   "execution_count": 5,
   "id": "d35ab85c",
   "metadata": {},
   "outputs": [
    {
     "data": {
      "text/html": [
       "<div>\n",
       "<style scoped>\n",
       "    .dataframe tbody tr th:only-of-type {\n",
       "        vertical-align: middle;\n",
       "    }\n",
       "\n",
       "    .dataframe tbody tr th {\n",
       "        vertical-align: top;\n",
       "    }\n",
       "\n",
       "    .dataframe thead th {\n",
       "        text-align: right;\n",
       "    }\n",
       "</style>\n",
       "<table border=\"1\" class=\"dataframe\">\n",
       "  <thead>\n",
       "    <tr style=\"text-align: right;\">\n",
       "      <th></th>\n",
       "      <th>Cust_Id</th>\n",
       "      <th>Rating</th>\n",
       "      <th>Date</th>\n",
       "      <th>Movie_Id</th>\n",
       "      <th>Title</th>\n",
       "      <th>Year</th>\n",
       "    </tr>\n",
       "  </thead>\n",
       "  <tbody>\n",
       "    <tr>\n",
       "      <th>0</th>\n",
       "      <td>1488844</td>\n",
       "      <td>3.0</td>\n",
       "      <td>2005-09-06</td>\n",
       "      <td>1</td>\n",
       "      <td>Dinosaur Planet</td>\n",
       "      <td>2003</td>\n",
       "    </tr>\n",
       "    <tr>\n",
       "      <th>1</th>\n",
       "      <td>822109</td>\n",
       "      <td>5.0</td>\n",
       "      <td>2005-05-13</td>\n",
       "      <td>1</td>\n",
       "      <td>Dinosaur Planet</td>\n",
       "      <td>2003</td>\n",
       "    </tr>\n",
       "    <tr>\n",
       "      <th>2</th>\n",
       "      <td>885013</td>\n",
       "      <td>4.0</td>\n",
       "      <td>2005-10-19</td>\n",
       "      <td>1</td>\n",
       "      <td>Dinosaur Planet</td>\n",
       "      <td>2003</td>\n",
       "    </tr>\n",
       "    <tr>\n",
       "      <th>3</th>\n",
       "      <td>30878</td>\n",
       "      <td>4.0</td>\n",
       "      <td>2005-12-26</td>\n",
       "      <td>1</td>\n",
       "      <td>Dinosaur Planet</td>\n",
       "      <td>2003</td>\n",
       "    </tr>\n",
       "    <tr>\n",
       "      <th>4</th>\n",
       "      <td>823519</td>\n",
       "      <td>3.0</td>\n",
       "      <td>2004-05-03</td>\n",
       "      <td>1</td>\n",
       "      <td>Dinosaur Planet</td>\n",
       "      <td>2003</td>\n",
       "    </tr>\n",
       "  </tbody>\n",
       "</table>\n",
       "</div>"
      ],
      "text/plain": [
       "   Cust_Id  Rating       Date  Movie_Id            Title  Year\n",
       "0  1488844     3.0 2005-09-06         1  Dinosaur Planet  2003\n",
       "1   822109     5.0 2005-05-13         1  Dinosaur Planet  2003\n",
       "2   885013     4.0 2005-10-19         1  Dinosaur Planet  2003\n",
       "3    30878     4.0 2005-12-26         1  Dinosaur Planet  2003\n",
       "4   823519     3.0 2004-05-03         1  Dinosaur Planet  2003"
      ]
     },
     "metadata": {},
     "output_type": "display_data"
    }
   ],
   "source": [
    "rating_df = rating_df.merge(movies_df)\n",
    "display(rating_df.head())"
   ]
  },
  {
   "cell_type": "markdown",
   "id": "800e0336",
   "metadata": {},
   "source": [
    "# 1.2. Qual é o nome dos 5 filmes com melhor média de avaliação ?"
   ]
  },
  {
   "cell_type": "markdown",
   "id": "1e01b761",
   "metadata": {},
   "source": [
    "Para descobrir vamos utilizar o groupby, que irá juntar a coluna \"Title\", e acrescentar o mean(), que irá gerar uma média dos valores da coluna \"Rating\". Após isso usamos o sort_values com o atributo ascending como False, assim apresentamos os Titulos com avaliação mais alta. E usamos o head para limitarmos a 5 linhas."
   ]
  },
  {
   "cell_type": "code",
   "execution_count": 6,
   "id": "89067296",
   "metadata": {},
   "outputs": [
    {
     "data": {
      "text/html": [
       "<div>\n",
       "<style scoped>\n",
       "    .dataframe tbody tr th:only-of-type {\n",
       "        vertical-align: middle;\n",
       "    }\n",
       "\n",
       "    .dataframe tbody tr th {\n",
       "        vertical-align: top;\n",
       "    }\n",
       "\n",
       "    .dataframe thead th {\n",
       "        text-align: right;\n",
       "    }\n",
       "</style>\n",
       "<table border=\"1\" class=\"dataframe\">\n",
       "  <thead>\n",
       "    <tr style=\"text-align: right;\">\n",
       "      <th></th>\n",
       "      <th>Rating</th>\n",
       "    </tr>\n",
       "    <tr>\n",
       "      <th>Title</th>\n",
       "      <th></th>\n",
       "    </tr>\n",
       "  </thead>\n",
       "  <tbody>\n",
       "    <tr>\n",
       "      <th>Lord of the Rings: The Return of the King: Extended Edition: Bonus Material</th>\n",
       "      <td>4.552000</td>\n",
       "    </tr>\n",
       "    <tr>\n",
       "      <th>Elfen Lied</th>\n",
       "      <td>4.251880</td>\n",
       "    </tr>\n",
       "    <tr>\n",
       "      <th>Chappelle's Show: Season 1</th>\n",
       "      <td>4.211192</td>\n",
       "    </tr>\n",
       "    <tr>\n",
       "      <th>Aqua Teen Hunger Force: Vol. 1</th>\n",
       "      <td>4.168650</td>\n",
       "    </tr>\n",
       "    <tr>\n",
       "      <th>Star Trek: Deep Space Nine: Season 5</th>\n",
       "      <td>4.160759</td>\n",
       "    </tr>\n",
       "  </tbody>\n",
       "</table>\n",
       "</div>"
      ],
      "text/plain": [
       "                                                      Rating\n",
       "Title                                                       \n",
       "Lord of the Rings: The Return of the King: Exte...  4.552000\n",
       "Elfen Lied                                          4.251880\n",
       "Chappelle's Show: Season 1                          4.211192\n",
       "Aqua Teen Hunger Force: Vol. 1                      4.168650\n",
       "Star Trek: Deep Space Nine: Season 5                4.160759"
      ]
     },
     "metadata": {},
     "output_type": "display_data"
    }
   ],
   "source": [
    "better_rating_movies = rating_df[['Title', 'Rating']].groupby('Title').mean()\n",
    "better_movies = better_rating_movies.sort_values('Rating', ascending=False).head(5)\n",
    "display(better_movies)"
   ]
  },
  {
   "cell_type": "markdown",
   "id": "554451af",
   "metadata": {},
   "source": [
    "# 1.3. Qual os 9 anos com menos lançamentos de filmes?"
   ]
  },
  {
   "cell_type": "markdown",
   "id": "2ca8ed75",
   "metadata": {},
   "source": [
    "Utilizamos o value_counts para pegar a coluna \"Year\" da planilha \"movies\" e contar quantas vezes cada ano se repete.\n",
    "Após isso usamos o sort_values().head(9) para colocarmos em ordem crescente (do que menos aparece para o que mais aparece) e aparecer apenas os 9 primeiros.\n",
    "o to_string foi utilizado para retirar as informações de name e dtype que aparecem no do print."
   ]
  },
  {
   "cell_type": "code",
   "execution_count": 7,
   "id": "40397db4",
   "metadata": {},
   "outputs": [
    {
     "name": "stdout",
     "output_type": "stream",
     "text": [
      "1917    1\n",
      "1922    1\n",
      "1926    1\n",
      "1915    1\n",
      "1924    2\n",
      "1916    2\n",
      "1931    2\n",
      "1918    2\n",
      "1929    2\n"
     ]
    }
   ],
   "source": [
    "release_years = movies_df['Year'].value_counts()\n",
    "print(release_years.sort_values().head(9).to_string())"
   ]
  },
  {
   "cell_type": "markdown",
   "id": "788b91e8",
   "metadata": {},
   "source": [
    "# 1.4. Quantos filmes que possuem avaliação maior ou igual a 4.7, considerando apenas os filmes avaliados na última data de avaliação do Dataset?"
   ]
  },
  {
   "cell_type": "markdown",
   "id": "d577fbb1",
   "metadata": {},
   "source": [
    "Primeiro precisamos descobrir qual a última data de avaliação do Dataset, para isso valor utilizar o .max() na coluna \"Date\"."
   ]
  },
  {
   "cell_type": "code",
   "execution_count": 8,
   "id": "54afb93d",
   "metadata": {},
   "outputs": [
    {
     "name": "stdout",
     "output_type": "stream",
     "text": [
      "2005-12-31 00:00:00\n"
     ]
    }
   ],
   "source": [
    "last_date = rating_df['Date'].max()\n",
    "print(last_date)"
   ]
  },
  {
   "cell_type": "markdown",
   "id": "361d4c0b",
   "metadata": {},
   "source": [
    "Após descobrir a última data, precisamos filtrar por apenas os filmes dessa data e que que possuem avaliação maior ou igual a 4.7. E fazemos isso utilizando o .loc, conseguimos localizar pela coluna 'Date' os que possuem o mesmo valor que 31-12-2005, e pela coluna 'Rating' os que possuem o valor maior ou igual a 4.7"
   ]
  },
  {
   "cell_type": "code",
   "execution_count": 9,
   "id": "e96e413e",
   "metadata": {},
   "outputs": [],
   "source": [
    "rating_dates = rating_df.loc[rating_df['Date'] == last_date]\n",
    "rating_for_dates = rating_dates.loc[rating_dates['Rating'] >= 4.7]"
   ]
  },
  {
   "cell_type": "markdown",
   "id": "897c8fa0",
   "metadata": {},
   "source": [
    "Agora vamos remover os Ids duplicados, pois representando avaliações de um mesmo filme. Para isso vamos utilizar o .drop_duplicates, que irá procurar o subset \"Movie_Id\" repetidos e manter apenas o \"first\", ou primeiro. E utilizaremos o print para mostrar a contagem de filmes que possuem avaliação maior ou igual a 4.7 na data de 31-12-2005. "
   ]
  },
  {
   "cell_type": "code",
   "execution_count": 10,
   "id": "dc102aed",
   "metadata": {},
   "outputs": [
    {
     "name": "stdout",
     "output_type": "stream",
     "text": [
      "29 filmes possuem a avaliação maior ou igual a 4.7 e foram avaliados em 31/12/2005.\n"
     ]
    }
   ],
   "source": [
    "rating_for_dates = rating_for_dates.drop_duplicates(subset='Movie_Id', keep='first')\n",
    "print(rating_for_dates['Movie_Id'].count(), 'filmes possuem a avaliação maior ou igual a 4.7 e foram avaliados em 31/12/2005.')"
   ]
  },
  {
   "cell_type": "markdown",
   "id": "a5ff42ea",
   "metadata": {},
   "source": [
    "# 1.5. Dos filmes encontrados na questão anterior, quais são os 10 filmes com as piores notas e quais as notas ?"
   ]
  },
  {
   "cell_type": "markdown",
   "id": "da23f420",
   "metadata": {},
   "source": [
    "Utilizamos da variável criada anteriormente \"rating_dates\" para selecionarmos as piores do dia 31-12-2005, colocando em ordem crescente através do sort_values.\n",
    "Removemos as duplicatas nos Movie_Id, já que representam o mesmo filme, utilizando o Movie_Id, como anteriormente.\n",
    "Apresentamos apenas as colunas \"Rating\", \"Date\" e \"Title\", utilizando o loc."
   ]
  },
  {
   "cell_type": "code",
   "execution_count": 11,
   "id": "5f2e199a",
   "metadata": {},
   "outputs": [
    {
     "data": {
      "text/html": [
       "<div>\n",
       "<style scoped>\n",
       "    .dataframe tbody tr th:only-of-type {\n",
       "        vertical-align: middle;\n",
       "    }\n",
       "\n",
       "    .dataframe tbody tr th {\n",
       "        vertical-align: top;\n",
       "    }\n",
       "\n",
       "    .dataframe thead th {\n",
       "        text-align: right;\n",
       "    }\n",
       "</style>\n",
       "<table border=\"1\" class=\"dataframe\">\n",
       "  <thead>\n",
       "    <tr style=\"text-align: right;\">\n",
       "      <th></th>\n",
       "      <th>Rating</th>\n",
       "      <th>Date</th>\n",
       "      <th>Title</th>\n",
       "    </tr>\n",
       "  </thead>\n",
       "  <tbody>\n",
       "    <tr>\n",
       "      <th>39213</th>\n",
       "      <td>1.0</td>\n",
       "      <td>2005-12-31</td>\n",
       "      <td>Immortal Beloved</td>\n",
       "    </tr>\n",
       "    <tr>\n",
       "      <th>686110</th>\n",
       "      <td>1.0</td>\n",
       "      <td>2005-12-31</td>\n",
       "      <td>Death to Smoochy</td>\n",
       "    </tr>\n",
       "    <tr>\n",
       "      <th>335467</th>\n",
       "      <td>1.0</td>\n",
       "      <td>2005-12-31</td>\n",
       "      <td>Elfen Lied</td>\n",
       "    </tr>\n",
       "    <tr>\n",
       "      <th>661464</th>\n",
       "      <td>1.0</td>\n",
       "      <td>2005-12-31</td>\n",
       "      <td>Reservoir Dogs</td>\n",
       "    </tr>\n",
       "    <tr>\n",
       "      <th>453333</th>\n",
       "      <td>1.0</td>\n",
       "      <td>2005-12-31</td>\n",
       "      <td>Star Trek: Voyager: Season 1</td>\n",
       "    </tr>\n",
       "    <tr>\n",
       "      <th>356985</th>\n",
       "      <td>1.0</td>\n",
       "      <td>2005-12-31</td>\n",
       "      <td>The Great Race</td>\n",
       "    </tr>\n",
       "    <tr>\n",
       "      <th>290127</th>\n",
       "      <td>1.0</td>\n",
       "      <td>2005-12-31</td>\n",
       "      <td>I Love Lucy: Season 2</td>\n",
       "    </tr>\n",
       "    <tr>\n",
       "      <th>861880</th>\n",
       "      <td>2.0</td>\n",
       "      <td>2005-12-31</td>\n",
       "      <td>Taking Lives</td>\n",
       "    </tr>\n",
       "    <tr>\n",
       "      <th>799368</th>\n",
       "      <td>2.0</td>\n",
       "      <td>2005-12-31</td>\n",
       "      <td>X2: X-Men United</td>\n",
       "    </tr>\n",
       "    <tr>\n",
       "      <th>339107</th>\n",
       "      <td>2.0</td>\n",
       "      <td>2005-12-31</td>\n",
       "      <td>They Came Back</td>\n",
       "    </tr>\n",
       "  </tbody>\n",
       "</table>\n",
       "</div>"
      ],
      "text/plain": [
       "        Rating       Date                         Title\n",
       "39213      1.0 2005-12-31              Immortal Beloved\n",
       "686110     1.0 2005-12-31              Death to Smoochy\n",
       "335467     1.0 2005-12-31                    Elfen Lied\n",
       "661464     1.0 2005-12-31                Reservoir Dogs\n",
       "453333     1.0 2005-12-31  Star Trek: Voyager: Season 1\n",
       "356985     1.0 2005-12-31                The Great Race\n",
       "290127     1.0 2005-12-31         I Love Lucy: Season 2\n",
       "861880     2.0 2005-12-31                  Taking Lives\n",
       "799368     2.0 2005-12-31              X2: X-Men United\n",
       "339107     2.0 2005-12-31                They Came Back"
      ]
     },
     "metadata": {},
     "output_type": "display_data"
    }
   ],
   "source": [
    "worse_rating = rating_dates.sort_values('Rating').head(13)\n",
    "worse_rating = worse_rating.drop_duplicates(subset='Movie_Id', keep='first')\n",
    "worse_rating = worse_rating.loc[:,[\"Rating\",\"Date\",\"Title\"]]\n",
    "display(worse_rating)"
   ]
  },
  {
   "cell_type": "markdown",
   "id": "9a6ea3aa",
   "metadata": {},
   "source": [
    "# 1.6. Quais os id's dos 5 customer que mais avaliaram filmes e quantas avaliações cada um fez ?"
   ]
  },
  {
   "cell_type": "markdown",
   "id": "a8f71301",
   "metadata": {},
   "source": [
    "Utilizamos a [coluna].value_counts() para somarmos quantas vezes cada Customer avaliou. E ordenamos em ordem descrente utilizando o sort_values com ascending = false, para sabermos a quantidade dos que mais avaliaram. Limitamos apenas para os 5 primeiros utilizando o head(5)."
   ]
  },
  {
   "cell_type": "code",
   "execution_count": 12,
   "id": "d83eb638",
   "metadata": {},
   "outputs": [
    {
     "name": "stdout",
     "output_type": "stream",
     "text": [
      "305344     236\n",
      "387418     234\n",
      "2439493    226\n",
      "1664010    212\n",
      "2118461    197\n"
     ]
    }
   ],
   "source": [
    "customer_rating = rating_df['Cust_Id'].value_counts()\n",
    "print(customer_rating.sort_values(ascending=False).head(5).to_string())"
   ]
  },
  {
   "cell_type": "code",
   "execution_count": null,
   "id": "501e39f1",
   "metadata": {},
   "outputs": [],
   "source": []
  }
 ],
 "metadata": {
  "kernelspec": {
   "display_name": "Python 3 (ipykernel)",
   "language": "python",
   "name": "python3"
  },
  "language_info": {
   "codemirror_mode": {
    "name": "ipython",
    "version": 3
   },
   "file_extension": ".py",
   "mimetype": "text/x-python",
   "name": "python",
   "nbconvert_exporter": "python",
   "pygments_lexer": "ipython3",
   "version": "3.9.13"
  }
 },
 "nbformat": 4,
 "nbformat_minor": 5
}
